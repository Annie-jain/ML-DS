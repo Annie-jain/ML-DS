{
  "nbformat": 4,
  "nbformat_minor": 0,
  "metadata": {
    "colab": {
      "name": "Untitled0.ipynb",
      "provenance": [],
      "authorship_tag": "ABX9TyNyWUL9JjHL9/Tlx51CfDRt",
      "include_colab_link": true
    },
    "kernelspec": {
      "name": "python3",
      "display_name": "Python 3"
    },
    "language_info": {
      "name": "python"
    }
  },
  "cells": [
    {
      "cell_type": "markdown",
      "metadata": {
        "id": "view-in-github",
        "colab_type": "text"
      },
      "source": [
        "<a href=\"https://colab.research.google.com/github/Annie-jain/ML-DS/blob/main/transaction.ipynb\" target=\"_parent\"><img src=\"https://colab.research.google.com/assets/colab-badge.svg\" alt=\"Open In Colab\"/></a>"
      ]
    },
    {
      "cell_type": "code",
      "metadata": {
        "id": "CHB2IeWyuLqt"
      },
      "source": [
        "import pandas as pd\n",
        "import os\n",
        "import numpy as np\n",
        "from sklearn import linear_model\n"
      ],
      "execution_count": null,
      "outputs": []
    },
    {
      "cell_type": "code",
      "metadata": {
        "colab": {
          "base_uri": "https://localhost:8080/",
          "height": 35
        },
        "id": "2YyNTFuuFtzu",
        "outputId": "545c7633-a259-4a24-ec82-a1244b762388"
      },
      "source": [
        "pwd"
      ],
      "execution_count": null,
      "outputs": [
        {
          "output_type": "execute_result",
          "data": {
            "application/vnd.google.colaboratory.intrinsic+json": {
              "type": "string"
            },
            "text/plain": [
              "'/content'"
            ]
          },
          "metadata": {},
          "execution_count": 5
        }
      ]
    },
    {
      "cell_type": "code",
      "metadata": {
        "colab": {
          "base_uri": "https://localhost:8080/",
          "height": 204
        },
        "id": "_XeLOELpvvPW",
        "outputId": "c80118c0-d837-4202-acd7-0b6fccac6626"
      },
      "source": [
        "df = pd.read_csv(r'/transactions.csv')\n",
        "df.head()\n"
      ],
      "execution_count": null,
      "outputs": [
        {
          "output_type": "execute_result",
          "data": {
            "text/html": [
              "<div>\n",
              "<style scoped>\n",
              "    .dataframe tbody tr th:only-of-type {\n",
              "        vertical-align: middle;\n",
              "    }\n",
              "\n",
              "    .dataframe tbody tr th {\n",
              "        vertical-align: top;\n",
              "    }\n",
              "\n",
              "    .dataframe thead th {\n",
              "        text-align: right;\n",
              "    }\n",
              "</style>\n",
              "<table border=\"1\" class=\"dataframe\">\n",
              "  <thead>\n",
              "    <tr style=\"text-align: right;\">\n",
              "      <th></th>\n",
              "      <th>transaction_id</th>\n",
              "      <th>order_value</th>\n",
              "      <th>created_at</th>\n",
              "      <th>user_id</th>\n",
              "      <th>payment_method</th>\n",
              "      <th>extra_data</th>\n",
              "    </tr>\n",
              "  </thead>\n",
              "  <tbody>\n",
              "    <tr>\n",
              "      <th>0</th>\n",
              "      <td>83726035</td>\n",
              "      <td>492</td>\n",
              "      <td>2021-09-18 12:44:52</td>\n",
              "      <td>170398</td>\n",
              "      <td>SIMPL</td>\n",
              "      <td>{\"subtag\": \"Meat\", \"source\": {\"source_id\": \"A-...</td>\n",
              "    </tr>\n",
              "    <tr>\n",
              "      <th>1</th>\n",
              "      <td>83726132</td>\n",
              "      <td>445</td>\n",
              "      <td>2021-09-18 12:45:27</td>\n",
              "      <td>639384</td>\n",
              "      <td>SIMPL</td>\n",
              "      <td>{\"subtag\": \"Grocery\", \"source\": {\"source_id\": ...</td>\n",
              "    </tr>\n",
              "    <tr>\n",
              "      <th>2</th>\n",
              "      <td>83771233</td>\n",
              "      <td>389</td>\n",
              "      <td>2021-09-18 18:17:42</td>\n",
              "      <td>5508970</td>\n",
              "      <td>CARD</td>\n",
              "      <td>{\"subtag\": \"Grocery\", \"source\": {\"source_id\": ...</td>\n",
              "    </tr>\n",
              "    <tr>\n",
              "      <th>3</th>\n",
              "      <td>83771214</td>\n",
              "      <td>131</td>\n",
              "      <td>2021-09-18 18:17:32</td>\n",
              "      <td>3310990</td>\n",
              "      <td>CARD</td>\n",
              "      <td>{\"subtag\": \"Grocery\", \"source\": {\"source_id\": ...</td>\n",
              "    </tr>\n",
              "    <tr>\n",
              "      <th>4</th>\n",
              "      <td>83771198</td>\n",
              "      <td>916</td>\n",
              "      <td>2021-09-18 18:17:24</td>\n",
              "      <td>5061792</td>\n",
              "      <td>PAYTM</td>\n",
              "      <td>{\"subtag\": \"grocery\", \"source\": {\"source_id\": ...</td>\n",
              "    </tr>\n",
              "  </tbody>\n",
              "</table>\n",
              "</div>"
            ],
            "text/plain": [
              "   transaction_id  ...                                         extra_data\n",
              "0        83726035  ...  {\"subtag\": \"Meat\", \"source\": {\"source_id\": \"A-...\n",
              "1        83726132  ...  {\"subtag\": \"Grocery\", \"source\": {\"source_id\": ...\n",
              "2        83771233  ...  {\"subtag\": \"Grocery\", \"source\": {\"source_id\": ...\n",
              "3        83771214  ...  {\"subtag\": \"Grocery\", \"source\": {\"source_id\": ...\n",
              "4        83771198  ...  {\"subtag\": \"grocery\", \"source\": {\"source_id\": ...\n",
              "\n",
              "[5 rows x 6 columns]"
            ]
          },
          "metadata": {},
          "execution_count": 8
        }
      ]
    },
    {
      "cell_type": "markdown",
      "metadata": {
        "id": "3KfCYaW6erXH"
      },
      "source": [
        "# New Section"
      ]
    },
    {
      "cell_type": "markdown",
      "metadata": {
        "id": "9mVxCw88GX3O"
      },
      "source": [
        "# New Section"
      ]
    },
    {
      "cell_type": "code",
      "metadata": {
        "id": "eR_3TtmdGjaU"
      },
      "source": [
        "from google.colab import drive\n",
        "drive.mount('/content/drive')"
      ],
      "execution_count": null,
      "outputs": []
    },
    {
      "cell_type": "code",
      "metadata": {
        "id": "dPT_u_aQyl2x"
      },
      "source": [
        ""
      ],
      "execution_count": null,
      "outputs": []
    }
  ]
}